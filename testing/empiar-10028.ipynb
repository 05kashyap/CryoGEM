{
 "cells": [
  {
   "cell_type": "code",
   "execution_count": 1,
   "metadata": {},
   "outputs": [],
   "source": [
    "import subprocess \n",
    "import sys \n",
    "import string"
   ]
  },
  {
   "cell_type": "code",
   "execution_count": 2,
   "metadata": {},
   "outputs": [
    {
     "name": "stdout",
     "output_type": "stream",
     "text": [
      "cryogem gen_data --mode homo --input_map testing/data/exp_abinitio_volumes/densitymap.10028.90.mrc --device cuda:0 --save_dir save_images/gen_data/Ribosome\\(10028\\)/training_dataset/ --n_micrographs 100 --particle_size 90\n"
     ]
    }
   ],
   "source": [
    "# get training dataset (physical-based projection), load a coarse volume and generate a dataset of 100 clean phyics-based micrographs\n",
    "mode=\"homo\"\n",
    "input_map=\"testing/data/exp_abinitio_volumes/densitymap.10028.90.mrc\"\n",
    "device=\"cuda:0\"\n",
    "save_dir=\"save_images/gen_data/Ribosome\\(10028\\)/training_dataset/\"\n",
    "n_micrographs=\"100\"\n",
    "particle_size=\"90\"\n",
    "cmd = [\"cryogem\", \"gen_data\", \"--mode\", \"homo\", \"--input_map\", input_map, \"--device\", device,\n",
    "    \"--save_dir\", save_dir, \"--n_micrographs\", n_micrographs, \"--particle_size\", particle_size, \n",
    "]\n",
    "cmd = \" \".join(cmd)\n",
    "print(cmd)"
   ]
  },
  {
   "cell_type": "code",
   "execution_count": 3,
   "metadata": {},
   "outputs": [
    {
     "name": "stdout",
     "output_type": "stream",
     "text": [
      "cryogem esti_ice --apix 5.36 --input_dir testing/data/Ribosome\\(10028\\)/reals/ --save_dir save_images/esti_ice/Ribosome\\(10028\\)/ --device cuda:0\n"
     ]
    }
   ],
   "source": [
    "# generate weight map \n",
    "apix=\"5.36\"\n",
    "input_dir=\"testing/data/Ribosome\\(10028\\)/reals/\"\n",
    "save_dir=\"save_images/esti_ice/Ribosome\\(10028\\)/\"\n",
    "device=\"cuda:0\"\n",
    "cmd= [\"cryogem\", \"esti_ice\", \"--apix\", apix, \"--input_dir\", input_dir, \"--save_dir\", save_dir,\n",
    "      \"--device\", device\n",
    "]\n",
    "cmd = \" \".join(cmd)\n",
    "print(cmd)"
   ]
  },
  {
   "cell_type": "code",
   "execution_count": 4,
   "metadata": {},
   "outputs": [
    {
     "name": "stdout",
     "output_type": "stream",
     "text": [
      "cryogem train --name empair-10028-test --max_dataset_size 100 --apix 5.36 --real_dir testing/data/Ribosome\\(10028\\)/reals/ --sync_dir save_images/gen_data/Ribosome\\(10028\\)/training_dataset/mics_mrc --mask_dir save_images/gen_data/Ribosome\\(10028\\)/training_dataset/particles_mask --weight_map_dir save_images/esti_ice/Ribosome\\(10028\\)/ --gpu_ids 0\n"
     ]
    }
   ],
   "source": [
    "# train cryogem\n",
    "name=\"empair-10028-test\"\n",
    "max_dataset_size=\"100\"\n",
    "apix=\"5.36\"\n",
    "real_dir=\"testing/data/Ribosome\\(10028\\)/reals/\"\n",
    "sync_dir=\"save_images/gen_data/Ribosome\\(10028\\)/training_dataset/mics_mrc\"\n",
    "mask_dir=\"save_images/gen_data/Ribosome\\(10028\\)/training_dataset/particles_mask\"\n",
    "weight_map_dir=\"save_images/esti_ice/Ribosome\\(10028\\)/\"\n",
    "gpu_ids=\"0\"\n",
    "cmd = [\"cryogem\", \"train\", \"--name\", name, \"--max_dataset_size\", max_dataset_size, \"--apix\", apix,\n",
    "    \"--real_dir\", real_dir, \"--sync_dir\", sync_dir, \"--mask_dir\", mask_dir, \n",
    "    \"--weight_map_dir\", weight_map_dir, \"--gpu_ids\", gpu_ids\n",
    "]\n",
    "cmd = \" \".join(cmd)\n",
    "print(cmd)"
   ]
  },
  {
   "cell_type": "code",
   "execution_count": 5,
   "metadata": {},
   "outputs": [
    {
     "name": "stdout",
     "output_type": "stream",
     "text": [
      "cryogem gen_data --mode homo --input_map testing/data/exp_abinitio_volumes/densitymap.10028.90.mrc --device cuda:0 --save_dir save_images/gen_data/Ribosome\\(10028\\)/testing_dataset/ --n_micrographs 1000 --particle_size 90\n"
     ]
    }
   ],
   "source": [
    "# get testing dataset (physical-based projection)\n",
    "mode=\"homo\"\n",
    "input_map=\"testing/data/exp_abinitio_volumes/densitymap.10028.90.mrc\"\n",
    "device=\"cuda:0\"\n",
    "save_dir=\"save_images/gen_data/Ribosome\\(10028\\)/testing_dataset/\"\n",
    "n_micrographs=\"1000\"\n",
    "particle_size=\"90\"\n",
    "cmd = [\"cryogem\", \"gen_data\", \"--mode\", \"homo\", \"--input_map\", input_map, \"--device\", device,\n",
    "    \"--save_dir\", save_dir, \"--n_micrographs\", n_micrographs, \"--particle_size\", particle_size, \n",
    "]\n",
    "cmd = \" \".join(cmd)\n",
    "print(cmd)"
   ]
  },
  {
   "cell_type": "code",
   "execution_count": 6,
   "metadata": {},
   "outputs": [
    {
     "name": "stdout",
     "output_type": "stream",
     "text": [
      "cryogem test --name empair-10028-test --max_dataset_size 1000 --apix 5.36 --sync_dir save_images/gen_data/Ribosome\\(10028\\)/testing_dataset/mics_mrc --mask_dir save_images/gen_data/Ribosome\\(10028\\)/testing_dataset/particles_mask --pose_dir save_images/gen_data/Ribosome\\(10028\\)/testing_dataset/mics_particle_info --weight_map_dir save_images/esti_ice/Ribosome\\(10028\\)/ --save_dir save_images/test/Ribosome\\(10028\\)/ --gpu_ids 0\n"
     ]
    }
   ],
   "source": [
    "# test cryogem\n",
    "name=\"empair-10028-test\"\n",
    "num_test=\"1000\"\n",
    "max_dataset_size=\"1000\"\n",
    "apix=\"5.36\"\n",
    "epoch=\"latest\"\n",
    "sync_dir=\"save_images/gen_data/Ribosome\\(10028\\)/testing_dataset/mics_mrc\"\n",
    "pose_dir=\"save_images/gen_data/Ribosome\\(10028\\)/testing_dataset/mics_particle_info\"\n",
    "mask_dir=\"save_images/gen_data/Ribosome\\(10028\\)/testing_dataset/particles_mask\"\n",
    "weight_map_dir=\"save_images/esti_ice/Ribosome\\(10028\\)/\"\n",
    "save_dir=\"save_images/test/Ribosome\\(10028\\)/\"\n",
    "gpu_ids=\"0\"\n",
    "cmd = [\"cryogem\", \"test\", \"--name\", name, \"--max_dataset_size\", max_dataset_size, \"--apix\", apix,\n",
    "    \"--sync_dir\", sync_dir, \"--mask_dir\", mask_dir, \"--pose_dir\", pose_dir,\n",
    "    \"--weight_map_dir\", weight_map_dir, \"--save_dir\", save_dir, \"--gpu_ids\", gpu_ids\n",
    "]\n",
    "cmd = \" \".join(cmd)\n",
    "print(cmd)"
   ]
  }
 ],
 "metadata": {
  "kernelspec": {
   "display_name": "test00",
   "language": "python",
   "name": "python3"
  },
  "language_info": {
   "codemirror_mode": {
    "name": "ipython",
    "version": 3
   },
   "file_extension": ".py",
   "mimetype": "text/x-python",
   "name": "python",
   "nbconvert_exporter": "python",
   "pygments_lexer": "ipython3",
   "version": "3.11.9"
  }
 },
 "nbformat": 4,
 "nbformat_minor": 2
}
